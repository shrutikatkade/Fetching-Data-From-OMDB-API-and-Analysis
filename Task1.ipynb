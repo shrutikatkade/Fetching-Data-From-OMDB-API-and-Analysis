{
 "cells": [
  {
   "cell_type": "markdown",
   "id": "4c9599ce",
   "metadata": {},
   "source": [
    "The Web API - \n",
    "Open Movie Database (OMDB)"
   ]
  },
  {
   "cell_type": "markdown",
   "id": "4aab4796",
   "metadata": {},
   "source": [
    "# Task 1. Data Collection"
   ]
  },
  {
   "cell_type": "markdown",
   "id": "be806289",
   "metadata": {},
   "source": [
    "Importing of necessary libraries"
   ]
  },
  {
   "cell_type": "code",
   "execution_count": 54,
   "id": "742c4180",
   "metadata": {},
   "outputs": [],
   "source": [
    "import json, requests, urllib\n",
    "from pathlib import Path\n",
    "from datetime import datetime\n",
    "import pandas as pd\n",
    "import matplotlib\n",
    "import matplotlib.pyplot as plt\n",
    "%matplotlib inline"
   ]
  },
  {
   "cell_type": "markdown",
   "id": "4104bc57",
   "metadata": {},
   "source": [
    "Creating a path with 'raw' folder to save data after collecting from API"
   ]
  },
  {
   "cell_type": "code",
   "execution_count": null,
   "id": "0632282f",
   "metadata": {},
   "outputs": [],
   "source": [
    "dir_raw = Path(\"raw\")\n",
    "dir_raw.mkdir(parents=True, exist_ok=True)"
   ]
  },
  {
   "cell_type": "markdown",
   "id": "775a7b69",
   "metadata": {},
   "source": [
    "Here I have used Open Movie Database API.\n",
    "My API_key is cd384ca4.\n",
    "\n",
    "Due to an issue I was getting a null jason set while trying to collect data from Eventbright API and CDC Open Data.\n",
    "So here with OMDB API I tried retrieving movies by providing a list of movies."
   ]
  },
  {
   "cell_type": "code",
   "execution_count": 104,
   "id": "e2bdbd62",
   "metadata": {},
   "outputs": [],
   "source": [
    "api_key = \"cd384ca4\"\n",
    "\n",
    "# List of movie titles to fetch data for\n",
    "movies = ['The Dark Knight', 'Inception', 'Interstellar', 'Everything Everywhere All at Once', \n",
    "          'All Quiet on the Western Front', 'Ironman', 'Aquaman', 'Now you see me', 'Now You See Me 2', 'Jingle All the Way',\n",
    "         'To All the Boys Ive Loved Before', 'All About Eve', 'The Kids Are All Right', 'After', 'Deadpool', 'The Gray Man', \n",
    "         'The Shawshank Redemption', 'The Godfather', 'Guardians of the Galaxy Vol. 2', 'The Avengers', 'Eternals', 'Black Widow',\n",
    "         'Thor: Love And Thunder', 'Interstellar', 'Captain Marvel', 'Black Panthar', 'Thor', 'Avatar', 'Doctor Strange', 'Death On The Nile',\n",
    "         'The Incredible Hulk', 'Iron Man 2', 'Captain America: The First Avenger', 'Iron Man 3', 'Thor: The Dark World', \n",
    "         'Captain America: The Winter Soldier', 'Guardians of the Galaxy', 'Avengers: Age of Ultron', 'Ant-Man', 'Captain America: Civil War',\n",
    "         'Spider-Man: Homecoming', 'Thor: Ragnarok', 'Avengers: Infinity War', 'Ant-Man and the Wasp', 'Avengers: Endgame',\n",
    "         'Spider-Man: Far From Home', 'Shang-Chi and the Legend of the Ten Rings', 'Spider-Man: No Way Home', 'Doctor Strange in the Multiverse of Madness',\n",
    "         'Black Panther: Wakanda Forever', 'Ant-Man and the Wasp: Quantumania', 'Guardians of the Galaxy Vol. 3', \n",
    "         'Man of Steel', 'Batman v Superman: Dawn of Justice', 'Suicide Squad', 'Justice League', 'Shazam!', 'Birds of Prey',\n",
    "         'Wonder Woman 1984', 'Black Adam', 'Shazam! Fury of the Gods', 'The Suicide Squad', 'Green Lantern', 'Joker',\n",
    "         'Constantine', 'Fall', 'The Strays', 'The Whale', 'Plane', '365 Days', 'Fifty Shades Of Grey', 'After Ever Happy',\n",
    "         'Deep Water', 'John Wick', 'Tenet', 'No Time To Die', 'Inception', 'Fifty Shades Freed', 'Fifty Shades Darker', 'The Shawshank Redemption',\n",
    "         'The Godfather', 'The Shawshank Redemption', 'Pulp Fiction','The Silence of the Lambs', 'Forrest Gump', 'Fight Club',\n",
    "         'Star Wars: Episode IV - A New Hope', 'The Lord of the Rings: The Fellowship of the Ring', 'Criminal', 'The Shawsh']\n",
    "\n",
    "movie_data = []\n",
    "# Fetching data\n",
    "for title in movies:\n",
    "    # URL for the API endpoint\n",
    "    url = f'http://www.omdbapi.com/?apikey={api_key}&t={title}'\n",
    "\n",
    "   # Send the API request and get the response\n",
    "    response = requests.get(url)\n",
    "\n",
    "    # Parse the response JSON data\n",
    "    data = json.loads(response.text)\n",
    "\n",
    "    # Add the movie data to the list\n",
    "    movie_data.append(data)\n",
    "\n",
    "# Save the movie data to a JSON file\n",
    "with open(\"movies.json\", \"w\") as outfile:\n",
    "    json.dump(movie_data, outfile)\n"
   ]
  },
  {
   "cell_type": "markdown",
   "id": "58180cd5",
   "metadata": {},
   "source": [
    "Convrting JSON file into CSV file for further processing"
   ]
  },
  {
   "cell_type": "code",
   "execution_count": 105,
   "id": "f2ea9930",
   "metadata": {},
   "outputs": [],
   "source": [
    "# Load the JSON file\n",
    "with open('movies.json') as f:\n",
    "    data = json.load(f)\n",
    "\n",
    "# Convert the JSON data to a pandas DataFrame\n",
    "df = pd.json_normalize(data)\n",
    "\n",
    "# Save the DataFrame as a CSV file\n",
    "df.to_csv('movies.csv', index=False)\n"
   ]
  }
 ],
 "metadata": {
  "kernelspec": {
   "display_name": "Python 3 (ipykernel)",
   "language": "python",
   "name": "python3"
  },
  "language_info": {
   "codemirror_mode": {
    "name": "ipython",
    "version": 3
   },
   "file_extension": ".py",
   "mimetype": "text/x-python",
   "name": "python",
   "nbconvert_exporter": "python",
   "pygments_lexer": "ipython3",
   "version": "3.9.12"
  }
 },
 "nbformat": 4,
 "nbformat_minor": 5
}
